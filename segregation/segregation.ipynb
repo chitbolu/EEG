{
 "cells": [
  {
   "cell_type": "code",
   "execution_count": 13,
   "metadata": {},
   "outputs": [],
   "source": [
    "import matplotlib.pyplot as plt\n",
    "import scipy.io as io\n",
    "from scipy import signal\n",
    "import numpy as np\n",
    "import matplotlib.pyplot as plt\n",
    "from math import pi\n",
    "from scipy.fftpack import fft\n",
    "import scipy.io as io\n",
    "from scipy import signal\n",
    "from scipy.signal import butter, iirnotch, lfilter\n",
    "\n",
    "\n",
    "dat = io.loadmat('Subject1_2D.mat')\n",
    "x = dat['LeftBackward1']\n",
    "\n",
    "y=x[:,1][:3000]\n",
    "y=fft(y)\n"
   ]
  },
  {
   "cell_type": "code",
   "execution_count": 14,
   "metadata": {},
   "outputs": [],
   "source": [
    "\n",
    "\n",
    "\n",
    "def butter_highpass(cutoff, fs, order):\n",
    "    nyq = 0.5*fs\n",
    "    normal_cutoff = cutoff/nyq\n",
    "    b, a = butter(order, normal_cutoff, btype='high', analog=False, output='ba')\n",
    "    return b, a\n",
    "\n",
    "def highpass(data, fs, order,cutoff_high):\n",
    "    b,a = butter_highpass(cutoff_high,fs, order=order)\n",
    "    x = lfilter(b,a,data)\n",
    "    return x\n",
    "\n",
    "\n",
    "def butter_lowpass(cutoff, fs, order,):\n",
    "    nyq = 0.5*fs\n",
    "    normal_cutoff = cutoff/nyq\n",
    "    b, a = butter(order, normal_cutoff, btype='low', analog=False, output='ba')\n",
    "    return b, a\n",
    "\n",
    "\n",
    "\n",
    "def lowpass(data, fs, order, cutoff_low):\n",
    "    b,a = butter_lowpass(cutoff_low, fs, order=order)\n",
    "    y = lfilter(b,a,data)\n",
    "    return y\n",
    "\n",
    "def bandpass1(data,fs,order,fl,fh):\n",
    "    hsignal = highpass(data, fs, order,fl)\n",
    "    lsignal = lowpass(hsignal, fs, order,fh)\n",
    "    return lsignal\n",
    "\n",
    "\n",
    "\n",
    "\n",
    "fs = 1000\n",
    "order = 5"
   ]
  },
  {
   "cell_type": "code",
   "execution_count": 19,
   "metadata": {},
   "outputs": [
    {
     "data": {
      "image/png": "[encoded data removed]",
      "text/plain": [
       "<Figure size 432x288 with 1 Axes>"
      ]
     },
     "metadata": {
      "needs_background": "light"
     },
     "output_type": "display_data"
    }
   ],
   "source": [
    "alpha1 = bandpass1(y, fs,order,8.1, 12.0)\n",
    "beta1 = bandpass1(y,fs,order, 16.0, 36.0)\n",
    "gamma1 =bandpass1(y,fs,order, 36.1, 80)\n",
    "delta1 =bandpass1(y,fs,order, 1.0, 4.0)\n",
    "sigma1 = bandpass1(y,fs,order, 12.1, 16.0)\n",
    "theta1 = bandpass1(y, fs,order,4.1, 8.0)\n",
    "\n",
    "sumalpha1 = sum(abs(alpha1))\n",
    "sumbeta1 = sum(abs(beta1))\n",
    "sumgamma1 = sum(abs(gamma1))\n",
    "sumdelta1 = sum(abs(delta1))\n",
    "sumsigma1 = sum(abs(sigma1))\n",
    "sumtheta1 = sum(abs(theta1))\n",
    "\n",
    "\n",
    "totalsum = sumalpha1+sumbeta1+sumgamma1+sumdelta1+sumsigma1+sumtheta1\n",
    "t=totalsum\n",
    "\n",
    "objects = [sumalpha1/t, sumbeta1/t, sumgamma1/t, sumdelta1/t, sumsigma1/t, sumtheta1/t]\n",
    "N = len(objects)\n",
    "ra = range(N)\n",
    "\n",
    "plt.autoscale\n",
    "somestuffneeded = np.arange(6)\n",
    "ticks = ['alpha','beta','gamma','delta','sigma','theta']\n",
    "plt.xticks(somestuffneeded, ticks)\n",
    "plt.bar(ra, objects)\n",
    "plt.show()"
   ]
  },
  {
   "cell_type": "code",
   "execution_count": null,
   "metadata": {},
   "outputs": [],
   "source": []
  }
 ],
 "metadata": {
  "kernelspec": {
   "display_name": "Python 3",
   "language": "python",
   "name": "python3"
  },
  "language_info": {
   "codemirror_mode": {
    "name": "ipython",
    "version": 3
   },
   "file_extension": ".py",
   "mimetype": "text/x-python",
   "name": "python",
   "nbconvert_exporter": "python",
   "pygments_lexer": "ipython3",
   "version": "3.7.4"
  }
 },
 "nbformat": 4,
 "nbformat_minor": 2
}
